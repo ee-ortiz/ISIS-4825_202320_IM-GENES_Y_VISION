{
  "cells": [
    {
      "cell_type": "markdown",
      "metadata": {
        "colab_type": "text",
        "id": "view-in-github"
      },
      "source": [
        "[![Open In Colab](https://colab.research.google.com/assets/colab-badge.svg)](https://colab.research.google.com/github/ee-ortiz/ISIS-4825_202320_IMAGENES_Y_VISION/blob/main/Laboratorio%202/Taller/MISIS4825-M%26V2023%20-%20TALLER2.ipynb)"
      ]
    },
    {
      "cell_type": "markdown",
      "metadata": {
        "id": "SU_lch1DySrJ"
      },
      "source": [
        "![image](https://drive.google.com/u/0/uc?id=15DUc09hFGqR8qcpYiN1OajRNaASmiL6d&export=download)"
      ]
    },
    {
      "cell_type": "markdown",
      "metadata": {
        "id": "5UbZ1aWajfMi"
      },
      "source": [
        "\n",
        "# **Taller 2**\n",
        "\n",
        "GeoAlpes, una empresa líder en análisis geoespacial, está buscando mejorar sus técnicas de clasificación automática de imágenes satelitales. El objetivo es poder categorizar distintas características geográficas (como desiertos, áreas verdes, cuerpos de agua y áreas nubladas) con alta precisión y rapidez. Para lograrlo, están interesados en explorar las capacidades de los métodos ensemble.\n",
        "\n",
        "1.  Exploración y Preparación de Datos\n",
        "\n",
        "    -   Discuta las particularidades de las imágenes satelitales y sugiera técnicas extra de preprocesamiento de ser necesario.\n",
        "\n",
        "2.  Implementación de Gradient Boosting\n",
        "\n",
        "    -   Utilice Gradient Boosting como modelo base. Discuta las ventajas y desafíos de este método, y cómo afecta la precisión y robustez del clasificador. Además, compare el desempeño de Gradient Boosting con el modelo SVM presentado en la práctica, ¿logra observar mejoras significativas?\n",
        "\n",
        "3. Implementación de un nuevo metodo Ensemble\n",
        "    - Elija y presente un método ensemble de su preferencia.Introduzca y discuta el concepto del método elegido y cómo podría ser benéfico para la clasificación de imágenes satelitales.\n",
        "    - Compare el desempeño de su método elegido con Gradient Boosting y el modelo SVM. Discuta las ventajas y desventajas de cada uno.\n",
        "\n",
        "4.  Optimización y Ajuste\n",
        "\n",
        "    -   Realice una búsqueda de los mejores hiperparámetros para mejorar el desempeño de cada uno de los modelos implementados (Grid Search).\n",
        "\n",
        "Datos: [Enlace al dataset de imágenes satelitales en Kaggle](https://www.kaggle.com/datasets/mahmoudreda55/satellite-image-classification)\n"
      ]
    }
  ],
  "metadata": {
    "colab": {
      "authorship_tag": "ABX9TyNsDYO4OIJok9V9tv3EHjkO",
      "include_colab_link": true,
      "provenance": []
    },
    "kernelspec": {
      "display_name": "Python 3",
      "name": "python3"
    },
    "language_info": {
      "name": "python"
    }
  },
  "nbformat": 4,
  "nbformat_minor": 0
}
