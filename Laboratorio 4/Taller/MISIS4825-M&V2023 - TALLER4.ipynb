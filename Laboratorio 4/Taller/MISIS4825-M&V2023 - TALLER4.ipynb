{
 "cells": [
  {
   "cell_type": "markdown",
   "metadata": {},
   "source": [
    "[![Open In Colab](https://colab.research.google.com/assets/colab-badge.svg)](https://colab.research.google.com/github/ee-ortiz/ISIS-4825_202320_IMAGENES_Y_VISION/blob/main/Laboratorio%204/Taller/MISIS4825-M%26V2023%20-%20TALLER4.ipynb)"
   ]
  },
  {
   "cell_type": "markdown",
   "metadata": {},
   "source": [
    "![image](https://drive.google.com/u/0/uc?id=15DUc09hFGqR8qcpYiN1OajRNaASmiL6d&export=download)"
   ]
  },
  {
   "cell_type": "markdown",
   "metadata": {},
   "source": [
    "# Taller 4\n",
    "\n",
    "En este taller, profundizaremos en el campo de las redes neuronales convolucionales (CNNs) y el aprendizaje por transferencia. Para ello utilizaremos un conjunto de datos de imágenes de resonancia magnética (MRI) de tumores cerebrales. El objetivo es construir tres modelos de clasificación (uno propio y dos de transferencia) puedan distinguir entre tres tipos de tumores cerebrales (meningioma, glioma y tumor pituitario) y un cerebro sano.\n",
    "\n",
    "1\\. **Diseño y Construcción de una Red Neuronal Convolucional Propia**\n",
    "\n",
    "-   Desarrolle una arquitectura de CNN personalizada utilizando Keras.\n",
    "-   Explique las decisiones detrás de la elección de la arquitectura, incluyendo el número y tipos de capas convolucionales, capas de pooling, funciones de activación y cualquier técnica de regularización utilizada.\n",
    "\n",
    "2\\. **Implementación de Dos Modelos de Transfer Learning**\n",
    "\n",
    "-   Implemente dos modelos de aprendizaje por transferencia distintos a InceptionResNetV2, como pueden ser VGG16, ResNet50, MobileNet, InceptionV3, etc.\n",
    "-   Explique la arquitectura de cada modelo base de transferencia y las decisiones sobre las capas extra que se agregaron.\n",
    "\n",
    "3\\. **Evaluación y Comparación de Modelos**\n",
    "\n",
    "-   Evalúe cada modelo utilizando métricas como precisión, recall, F1-score y matriz de confusión.\n",
    "-   Realice una comparación detallada del rendimiento de la red convolucional personalizada frente a los modelos de aprendizaje por transferencia. En particular sobre cómo diferentes arquitecturas y técnicas pueden afectar el rendimiento la tarea de clasificación.\n",
    "\n",
    "Datos: [Brain tumors 256x256](https://www.kaggle.com/datasets/thomasdubail/brain-tumors-256x256)"
   ]
  },
  {
   "cell_type": "markdown",
   "metadata": {},
   "source": []
  }
 ],
 "metadata": {
  "language_info": {
   "name": "python"
  }
 },
 "nbformat": 4,
 "nbformat_minor": 2
}
