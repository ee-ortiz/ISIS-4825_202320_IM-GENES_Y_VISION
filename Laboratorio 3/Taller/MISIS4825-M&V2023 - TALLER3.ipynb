{
 "cells": [
  {
   "cell_type": "markdown",
   "metadata": {},
   "source": [
    "[![Open In Colab](https://colab.research.google.com/assets/colab-badge.svg)](https://colab.research.google.com/github/ee-ortiz/ISIS-4825_202320_IMAGENES_Y_VISION/blob/main/Laboratorio%203/Taller/MISIS4825-M%26V2023%20-%20TALLER3.ipynb)"
   ]
  },
  {
   "cell_type": "markdown",
   "metadata": {},
   "source": [
    "![image](https://drive.google.com/u/0/uc?id=15DUc09hFGqR8qcpYiN1OajRNaASmiL6d&export=download)"
   ]
  },
  {
   "cell_type": "markdown",
   "metadata": {},
   "source": [
    "# Taller 3\n",
    "\n",
    "En este taller, se exploraremos el uso de TensorFlow y Keras para el diseño y entrenamiento de redes neuronales perceptrón multicapa. Para ello utilizaremos el conjunto de datos **Alien vs. Predator**. El objetivo es construir un modelo de red neuronal que pueda clasificar correctamente las imágenes de acuerdo a su clase.\n",
    "\n",
    "1\\. **Preprocesamiento de Datos**\n",
    "\n",
    "-   Implemente técnicas de preprocesamiento como normalización, estandarización y aumentación de datos utilizando TensorFlow y Keras.\n",
    "-   Justifique cada técnica de preprocesamiento seleccionada y su impacto en el modelo de red neuronal.\n",
    "\n",
    "2\\. **Construcción de un Modelo de Red Neuronal Perceptrón Multicapa**\n",
    "\n",
    "-   Desarrolle un modelo de red neuronal perceptrón multicapa utilizando Keras.\n",
    "-   Discuta la elección de la arquitectura, incluyendo el número de capas, neuronas por capa, y funciones de activación.\n",
    "\n",
    "3\\. **Definición de Funciones de Callbacks para Monitorear el Entrenamiento**\n",
    "\n",
    "-   Implemente funciones de callbacks en TensorFlow y Keras para monitorear el proceso de entrenamiento.\n",
    "-   Explique cómo estas funciones pueden ayudar en la identificación de problemas como el sobreajuste o el entrenamiento insuficiente.\n",
    "-   Justifique la selección de ciertos callbacks y su configuración.\n",
    "\n",
    "4\\. **Entrenamiento y Exploración de Resultados**\n",
    "\n",
    "-   Detalle el proceso de entrenamiento, incluyendo la elección de la tasa de aprendizaje, el optimizador, y la función de pérdida.\n",
    "-   Analice los resultados obtenidos, utilizando métricas de desempeño como precisión, recall, y F1-score.\n",
    "\n",
    "Datos: [Alien vs. Predator images](https://www.kaggle.com/datasets/pmigdal/alien-vs-predator-images)"
   ]
  }
 ],
 "metadata": {
  "language_info": {
   "name": "python"
  }
 },
 "nbformat": 4,
 "nbformat_minor": 2
}
